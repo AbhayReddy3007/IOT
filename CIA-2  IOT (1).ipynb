{
 "cells": [
  {
   "cell_type": "code",
   "execution_count": 1,
   "id": "364f6701",
   "metadata": {},
   "outputs": [
    {
     "name": "stderr",
     "output_type": "stream",
     "text": [
      "/home/abhay/.local/lib/python3.8/site-packages/pandas/core/computation/expressions.py:20: UserWarning: Pandas requires version '2.7.3' or newer of 'numexpr' (version '2.7.1' currently installed).\n",
      "  from pandas.core.computation.check import NUMEXPR_INSTALLED\n"
     ]
    }
   ],
   "source": [
    "import numpy as np\n",
    "import pandas as pd\n",
    "import matplotlib.pyplot as plt"
   ]
  },
  {
   "cell_type": "code",
   "execution_count": 2,
   "id": "eb7c38c7",
   "metadata": {},
   "outputs": [],
   "source": [
    "ts_data = pd.read_csv(\"/home/abhay/Downloads/soil_impurity.csv\")"
   ]
  },
  {
   "cell_type": "code",
   "execution_count": 3,
   "id": "f9ae50f1",
   "metadata": {},
   "outputs": [],
   "source": [
    "ts_data.rename(columns={\"Turbidity\": \"Impurity\"}, inplace=True)"
   ]
  },
  {
   "cell_type": "code",
   "execution_count": 4,
   "id": "9a37ae8a",
   "metadata": {},
   "outputs": [],
   "source": [
    "ts_data['Date'] = pd.to_datetime(ts_data['Date'], format='%d-%m-%Y')"
   ]
  },
  {
   "cell_type": "code",
   "execution_count": 5,
   "id": "4ff315d0",
   "metadata": {},
   "outputs": [],
   "source": [
    "ts_data.set_index('Date',inplace=True)"
   ]
  },
  {
   "cell_type": "code",
   "execution_count": 6,
   "id": "582e41e9",
   "metadata": {},
   "outputs": [
    {
     "data": {
      "text/html": [
       "<div>\n",
       "<style scoped>\n",
       "    .dataframe tbody tr th:only-of-type {\n",
       "        vertical-align: middle;\n",
       "    }\n",
       "\n",
       "    .dataframe tbody tr th {\n",
       "        vertical-align: top;\n",
       "    }\n",
       "\n",
       "    .dataframe thead th {\n",
       "        text-align: right;\n",
       "    }\n",
       "</style>\n",
       "<table border=\"1\" class=\"dataframe\">\n",
       "  <thead>\n",
       "    <tr style=\"text-align: right;\">\n",
       "      <th></th>\n",
       "      <th>Impurity</th>\n",
       "    </tr>\n",
       "    <tr>\n",
       "      <th>Date</th>\n",
       "      <th></th>\n",
       "    </tr>\n",
       "  </thead>\n",
       "  <tbody>\n",
       "    <tr>\n",
       "      <th>2011-01-01</th>\n",
       "      <td>20.038210</td>\n",
       "    </tr>\n",
       "    <tr>\n",
       "      <th>2011-01-12</th>\n",
       "      <td>19.708710</td>\n",
       "    </tr>\n",
       "    <tr>\n",
       "      <th>2011-01-24</th>\n",
       "      <td>20.641247</td>\n",
       "    </tr>\n",
       "    <tr>\n",
       "      <th>2011-02-04</th>\n",
       "      <td>20.419380</td>\n",
       "    </tr>\n",
       "    <tr>\n",
       "      <th>2011-02-16</th>\n",
       "      <td>19.577298</td>\n",
       "    </tr>\n",
       "    <tr>\n",
       "      <th>...</th>\n",
       "      <td>...</td>\n",
       "    </tr>\n",
       "    <tr>\n",
       "      <th>2021-11-14</th>\n",
       "      <td>40.787799</td>\n",
       "    </tr>\n",
       "    <tr>\n",
       "      <th>2021-11-26</th>\n",
       "      <td>40.412594</td>\n",
       "    </tr>\n",
       "    <tr>\n",
       "      <th>2021-12-07</th>\n",
       "      <td>39.909099</td>\n",
       "    </tr>\n",
       "    <tr>\n",
       "      <th>2021-12-19</th>\n",
       "      <td>40.846416</td>\n",
       "    </tr>\n",
       "    <tr>\n",
       "      <th>2021-12-31</th>\n",
       "      <td>40.707756</td>\n",
       "    </tr>\n",
       "  </tbody>\n",
       "</table>\n",
       "<p>350 rows × 1 columns</p>\n",
       "</div>"
      ],
      "text/plain": [
       "             Impurity\n",
       "Date                 \n",
       "2011-01-01  20.038210\n",
       "2011-01-12  19.708710\n",
       "2011-01-24  20.641247\n",
       "2011-02-04  20.419380\n",
       "2011-02-16  19.577298\n",
       "...               ...\n",
       "2021-11-14  40.787799\n",
       "2021-11-26  40.412594\n",
       "2021-12-07  39.909099\n",
       "2021-12-19  40.846416\n",
       "2021-12-31  40.707756\n",
       "\n",
       "[350 rows x 1 columns]"
      ]
     },
     "execution_count": 6,
     "metadata": {},
     "output_type": "execute_result"
    }
   ],
   "source": [
    "ts_data"
   ]
  },
  {
   "cell_type": "code",
   "execution_count": 7,
   "id": "7d0a837b",
   "metadata": {},
   "outputs": [
    {
     "data": {
      "text/plain": [
       "[<matplotlib.lines.Line2D at 0x7f11d339ba30>]"
      ]
     },
     "execution_count": 7,
     "metadata": {},
     "output_type": "execute_result"
    },
    {
     "data": {
      "image/png": "[encoded data removed]",
      "text/plain": [
       "<Figure size 800x550 with 1 Axes>"
      ]
     },
     "metadata": {},
     "output_type": "display_data"
    }
   ],
   "source": [
    "plt.style.use('seaborn')\n",
    "rol_mean = ts_data.rolling(window=12).mean()\n",
    "rol_std = ts_data.rolling(window=12).std()\n",
    "\n",
    "plt.plot(ts_data, c='blue')\n",
    "plt.plot(rol_mean, c='yellow')\n",
    "plt.plot(rol_std, c='red')"
   ]
  },
  {
   "cell_type": "code",
   "execution_count": 8,
   "id": "5c922b29",
   "metadata": {},
   "outputs": [
    {
     "name": "stdout",
     "output_type": "stream",
     "text": [
      "(0.25205142906549727, 0.9750344672661402, 15, 334, {'1%': -3.450081345901191, '5%': -2.870232621465807, '10%': -2.571401168202517}, 664.8999100836352)\n"
     ]
    }
   ],
   "source": [
    "from statsmodels.tsa.stattools import adfuller\n",
    "dftest= adfuller(ts_data['Impurity'])\n",
    "print(dftest)"
   ]
  },
  {
   "cell_type": "code",
   "execution_count": 9,
   "id": "e42ac6a2",
   "metadata": {},
   "outputs": [],
   "source": [
    "ts_data_new = ts_data['Impurity'] -  ts_data['Impurity'].shift(2)"
   ]
  },
  {
   "cell_type": "code",
   "execution_count": 10,
   "id": "38d6bb72",
   "metadata": {},
   "outputs": [
    {
     "data": {
      "text/plain": [
       "(-8.770878361614178,\n",
       " 2.5230548519337962e-14,\n",
       " 13,\n",
       " 334,\n",
       " {'1%': -3.450081345901191,\n",
       "  '5%': -2.870232621465807,\n",
       "  '10%': -2.571401168202517},\n",
       " 671.6367418700821)"
      ]
     },
     "execution_count": 10,
     "metadata": {},
     "output_type": "execute_result"
    }
   ],
   "source": [
    "adfuller(ts_data_new.dropna())"
   ]
  },
  {
   "cell_type": "code",
   "execution_count": 11,
   "id": "a173c865",
   "metadata": {},
   "outputs": [
    {
     "data": {
      "text/plain": [
       "[<matplotlib.lines.Line2D at 0x7f11c6b38070>]"
      ]
     },
     "execution_count": 11,
     "metadata": {},
     "output_type": "execute_result"
    },
    {
     "data": {
      "image/png": "[encoded data removed]",
      "text/plain": [
       "<Figure size 800x550 with 2 Axes>"
      ]
     },
     "metadata": {},
     "output_type": "display_data"
    }
   ],
   "source": [
    "from statsmodels.tsa.stattools import acf,pacf\n",
    "\n",
    "acf_plot = acf(ts_data_new.dropna())\n",
    "pacf_plot = pacf(ts_data_new.dropna())\n",
    "\n",
    "plt.subplot(211)\n",
    "plt.plot(acf_plot)\n",
    "plt.subplot(212)\n",
    "plt.plot(pacf_plot)"
   ]
  },
  {
   "cell_type": "code",
   "execution_count": 12,
   "id": "6295755e",
   "metadata": {},
   "outputs": [
    {
     "name": "stderr",
     "output_type": "stream",
     "text": [
      "/home/abhay/.local/lib/python3.8/site-packages/statsmodels/tsa/base/tsa_model.py:471: ValueWarning: A date index has been provided, but it has no associated frequency information and so will be ignored when e.g. forecasting.\n",
      "  self._init_dates(dates, freq)\n",
      "/home/abhay/.local/lib/python3.8/site-packages/statsmodels/tsa/base/tsa_model.py:471: ValueWarning: A date index has been provided, but it has no associated frequency information and so will be ignored when e.g. forecasting.\n",
      "  self._init_dates(dates, freq)\n",
      "/home/abhay/.local/lib/python3.8/site-packages/statsmodels/tsa/base/tsa_model.py:471: ValueWarning: A date index has been provided, but it has no associated frequency information and so will be ignored when e.g. forecasting.\n",
      "  self._init_dates(dates, freq)\n"
     ]
    }
   ],
   "source": [
    "from statsmodels.tsa.arima.model import ARIMA\n",
    "model = ARIMA(ts_data, seasonal_order=(2,2,1,12))\n",
    "model_fit = model.fit()"
   ]
  },
  {
   "cell_type": "code",
   "execution_count": 13,
   "id": "61f60d85",
   "metadata": {},
   "outputs": [
    {
     "name": "stderr",
     "output_type": "stream",
     "text": [
      "/home/abhay/.local/lib/python3.8/site-packages/statsmodels/tsa/base/tsa_model.py:834: ValueWarning: No supported index is available. Prediction results will be given with an integer index beginning at `start`.\n",
      "  return get_prediction_index(\n"
     ]
    }
   ],
   "source": [
    "res = model_fit.forecast(24)"
   ]
  },
  {
   "cell_type": "code",
   "execution_count": 14,
   "id": "dfe84a77",
   "metadata": {},
   "outputs": [
    {
     "name": "stderr",
     "output_type": "stream",
     "text": [
      "/tmp/ipykernel_4308/674057164.py:4: FutureWarning: The frame.append method is deprecated and will be removed from pandas in a future version. Use pandas.concat instead.\n",
      "  ts_data_pred = ts_data_pred.append(res)\n"
     ]
    }
   ],
   "source": [
    "res = pd.DataFrame(res)\n",
    "res.columns=['Turbidity']\n",
    "ts_data_pred = pd.DataFrame(ts_data)\n",
    "ts_data_pred = ts_data_pred.append(res)\n"
   ]
  },
  {
   "cell_type": "code",
   "execution_count": 16,
   "id": "3108286d",
   "metadata": {},
   "outputs": [],
   "source": [
    "from datetime import datetime, timedelta\n",
    "\n",
    "start_date = datetime(2022, 1, 1)\n",
    "\n",
    "date_list = []\n",
    "for i in range(len(ts_data_pred[350:])):\n",
    "    date_list.append(start_date + timedelta(days=i*11))"
   ]
  },
  {
   "cell_type": "code",
   "execution_count": 17,
   "id": "02587cce",
   "metadata": {},
   "outputs": [],
   "source": [
    "temp = ts_data_pred[350:].reset_index()\n",
    "temp['index'] =  date_list"
   ]
  },
  {
   "cell_type": "code",
   "execution_count": 18,
   "id": "b13a900f",
   "metadata": {},
   "outputs": [],
   "source": [
    "temp.set_index('index',inplace=True)"
   ]
  },
  {
   "cell_type": "code",
   "execution_count": 19,
   "id": "e302b85b",
   "metadata": {},
   "outputs": [
    {
     "data": {
      "text/html": [
       "<div>\n",
       "<style scoped>\n",
       "    .dataframe tbody tr th:only-of-type {\n",
       "        vertical-align: middle;\n",
       "    }\n",
       "\n",
       "    .dataframe tbody tr th {\n",
       "        vertical-align: top;\n",
       "    }\n",
       "\n",
       "    .dataframe thead th {\n",
       "        text-align: right;\n",
       "    }\n",
       "</style>\n",
       "<table border=\"1\" class=\"dataframe\">\n",
       "  <thead>\n",
       "    <tr style=\"text-align: right;\">\n",
       "      <th></th>\n",
       "      <th>Impurity</th>\n",
       "    </tr>\n",
       "    <tr>\n",
       "      <th>Date</th>\n",
       "      <th></th>\n",
       "    </tr>\n",
       "  </thead>\n",
       "  <tbody>\n",
       "    <tr>\n",
       "      <th>2011-01-01</th>\n",
       "      <td>20.038210</td>\n",
       "    </tr>\n",
       "    <tr>\n",
       "      <th>2011-01-12</th>\n",
       "      <td>19.708710</td>\n",
       "    </tr>\n",
       "    <tr>\n",
       "      <th>2011-01-24</th>\n",
       "      <td>20.641247</td>\n",
       "    </tr>\n",
       "    <tr>\n",
       "      <th>2011-02-04</th>\n",
       "      <td>20.419380</td>\n",
       "    </tr>\n",
       "    <tr>\n",
       "      <th>2011-02-16</th>\n",
       "      <td>19.577298</td>\n",
       "    </tr>\n",
       "    <tr>\n",
       "      <th>...</th>\n",
       "      <td>...</td>\n",
       "    </tr>\n",
       "    <tr>\n",
       "      <th>2021-11-14</th>\n",
       "      <td>40.787799</td>\n",
       "    </tr>\n",
       "    <tr>\n",
       "      <th>2021-11-26</th>\n",
       "      <td>40.412594</td>\n",
       "    </tr>\n",
       "    <tr>\n",
       "      <th>2021-12-07</th>\n",
       "      <td>39.909099</td>\n",
       "    </tr>\n",
       "    <tr>\n",
       "      <th>2021-12-19</th>\n",
       "      <td>40.846416</td>\n",
       "    </tr>\n",
       "    <tr>\n",
       "      <th>2021-12-31</th>\n",
       "      <td>40.707756</td>\n",
       "    </tr>\n",
       "  </tbody>\n",
       "</table>\n",
       "<p>350 rows × 1 columns</p>\n",
       "</div>"
      ],
      "text/plain": [
       "             Impurity\n",
       "Date                 \n",
       "2011-01-01  20.038210\n",
       "2011-01-12  19.708710\n",
       "2011-01-24  20.641247\n",
       "2011-02-04  20.419380\n",
       "2011-02-16  19.577298\n",
       "...               ...\n",
       "2021-11-14  40.787799\n",
       "2021-11-26  40.412594\n",
       "2021-12-07  39.909099\n",
       "2021-12-19  40.846416\n",
       "2021-12-31  40.707756\n",
       "\n",
       "[350 rows x 1 columns]"
      ]
     },
     "execution_count": 19,
     "metadata": {},
     "output_type": "execute_result"
    }
   ],
   "source": [
    "ts_data"
   ]
  },
  {
   "cell_type": "markdown",
   "id": "797805fd",
   "metadata": {},
   "source": [
    "# prediction\n"
   ]
  },
  {
   "cell_type": "code",
   "execution_count": 20,
   "id": "01279822",
   "metadata": {},
   "outputs": [
    {
     "data": {
      "text/plain": [
       "[<matplotlib.lines.Line2D at 0x7f11bb8465e0>,\n",
       " <matplotlib.lines.Line2D at 0x7f11bb7dd520>]"
      ]
     },
     "execution_count": 20,
     "metadata": {},
     "output_type": "execute_result"
    },
    {
     "data": {
      "image/png": "[encoded data removed]",
      "text/plain": [
       "<Figure size 800x550 with 1 Axes>"
      ]
     },
     "metadata": {},
     "output_type": "display_data"
    }
   ],
   "source": [
    "plt.plot(ts_data)\n",
    "plt.plot(temp,c='red')"
   ]
  },
  {
   "cell_type": "code",
   "execution_count": 21,
   "id": "f63cabab",
   "metadata": {},
   "outputs": [],
   "source": [
    "final = pd.concat([ts_data,temp])"
   ]
  },
  {
   "cell_type": "code",
   "execution_count": 27,
   "id": "bc579eb3",
   "metadata": {},
   "outputs": [
    {
     "data": {
      "text/html": [
       "<div>\n",
       "<style scoped>\n",
       "    .dataframe tbody tr th:only-of-type {\n",
       "        vertical-align: middle;\n",
       "    }\n",
       "\n",
       "    .dataframe tbody tr th {\n",
       "        vertical-align: top;\n",
       "    }\n",
       "\n",
       "    .dataframe thead th {\n",
       "        text-align: right;\n",
       "    }\n",
       "</style>\n",
       "<table border=\"1\" class=\"dataframe\">\n",
       "  <thead>\n",
       "    <tr style=\"text-align: right;\">\n",
       "      <th></th>\n",
       "      <th>Impurity</th>\n",
       "    </tr>\n",
       "  </thead>\n",
       "  <tbody>\n",
       "    <tr>\n",
       "      <th>2011-01-01</th>\n",
       "      <td>20.038210</td>\n",
       "    </tr>\n",
       "    <tr>\n",
       "      <th>2011-01-12</th>\n",
       "      <td>19.708710</td>\n",
       "    </tr>\n",
       "    <tr>\n",
       "      <th>2011-01-24</th>\n",
       "      <td>20.641247</td>\n",
       "    </tr>\n",
       "    <tr>\n",
       "      <th>2011-02-04</th>\n",
       "      <td>20.419380</td>\n",
       "    </tr>\n",
       "    <tr>\n",
       "      <th>2011-02-16</th>\n",
       "      <td>19.577298</td>\n",
       "    </tr>\n",
       "    <tr>\n",
       "      <th>2011-02-27</th>\n",
       "      <td>19.904306</td>\n",
       "    </tr>\n",
       "    <tr>\n",
       "      <th>2011-03-11</th>\n",
       "      <td>19.433699</td>\n",
       "    </tr>\n",
       "    <tr>\n",
       "      <th>2011-03-22</th>\n",
       "      <td>20.127961</td>\n",
       "    </tr>\n",
       "    <tr>\n",
       "      <th>2011-04-03</th>\n",
       "      <td>20.415344</td>\n",
       "    </tr>\n",
       "    <tr>\n",
       "      <th>2011-04-14</th>\n",
       "      <td>21.132568</td>\n",
       "    </tr>\n",
       "    <tr>\n",
       "      <th>2011-04-26</th>\n",
       "      <td>20.226434</td>\n",
       "    </tr>\n",
       "    <tr>\n",
       "      <th>2011-05-07</th>\n",
       "      <td>19.516791</td>\n",
       "    </tr>\n",
       "    <tr>\n",
       "      <th>2011-05-19</th>\n",
       "      <td>20.529419</td>\n",
       "    </tr>\n",
       "    <tr>\n",
       "      <th>2011-05-30</th>\n",
       "      <td>20.616775</td>\n",
       "    </tr>\n",
       "    <tr>\n",
       "      <th>2011-06-11</th>\n",
       "      <td>20.267732</td>\n",
       "    </tr>\n",
       "    <tr>\n",
       "      <th>2011-06-22</th>\n",
       "      <td>20.619433</td>\n",
       "    </tr>\n",
       "    <tr>\n",
       "      <th>2011-07-04</th>\n",
       "      <td>20.921603</td>\n",
       "    </tr>\n",
       "    <tr>\n",
       "      <th>2011-07-15</th>\n",
       "      <td>21.506319</td>\n",
       "    </tr>\n",
       "    <tr>\n",
       "      <th>2011-07-27</th>\n",
       "      <td>20.464198</td>\n",
       "    </tr>\n",
       "    <tr>\n",
       "      <th>2011-08-07</th>\n",
       "      <td>21.638113</td>\n",
       "    </tr>\n",
       "    <tr>\n",
       "      <th>2011-08-19</th>\n",
       "      <td>20.199665</td>\n",
       "    </tr>\n",
       "    <tr>\n",
       "      <th>2011-08-30</th>\n",
       "      <td>20.232325</td>\n",
       "    </tr>\n",
       "    <tr>\n",
       "      <th>2011-09-11</th>\n",
       "      <td>21.526740</td>\n",
       "    </tr>\n",
       "    <tr>\n",
       "      <th>2011-09-22</th>\n",
       "      <td>20.659245</td>\n",
       "    </tr>\n",
       "    <tr>\n",
       "      <th>2011-10-04</th>\n",
       "      <td>21.370282</td>\n",
       "    </tr>\n",
       "    <tr>\n",
       "      <th>2011-10-15</th>\n",
       "      <td>19.760364</td>\n",
       "    </tr>\n",
       "    <tr>\n",
       "      <th>2011-10-27</th>\n",
       "      <td>20.736369</td>\n",
       "    </tr>\n",
       "    <tr>\n",
       "      <th>2011-11-07</th>\n",
       "      <td>21.190583</td>\n",
       "    </tr>\n",
       "    <tr>\n",
       "      <th>2011-11-19</th>\n",
       "      <td>20.767269</td>\n",
       "    </tr>\n",
       "    <tr>\n",
       "      <th>2011-11-30</th>\n",
       "      <td>21.421325</td>\n",
       "    </tr>\n",
       "  </tbody>\n",
       "</table>\n",
       "</div>"
      ],
      "text/plain": [
       "             Impurity\n",
       "2011-01-01  20.038210\n",
       "2011-01-12  19.708710\n",
       "2011-01-24  20.641247\n",
       "2011-02-04  20.419380\n",
       "2011-02-16  19.577298\n",
       "2011-02-27  19.904306\n",
       "2011-03-11  19.433699\n",
       "2011-03-22  20.127961\n",
       "2011-04-03  20.415344\n",
       "2011-04-14  21.132568\n",
       "2011-04-26  20.226434\n",
       "2011-05-07  19.516791\n",
       "2011-05-19  20.529419\n",
       "2011-05-30  20.616775\n",
       "2011-06-11  20.267732\n",
       "2011-06-22  20.619433\n",
       "2011-07-04  20.921603\n",
       "2011-07-15  21.506319\n",
       "2011-07-27  20.464198\n",
       "2011-08-07  21.638113\n",
       "2011-08-19  20.199665\n",
       "2011-08-30  20.232325\n",
       "2011-09-11  21.526740\n",
       "2011-09-22  20.659245\n",
       "2011-10-04  21.370282\n",
       "2011-10-15  19.760364\n",
       "2011-10-27  20.736369\n",
       "2011-11-07  21.190583\n",
       "2011-11-19  20.767269\n",
       "2011-11-30  21.421325"
      ]
     },
     "execution_count": 27,
     "metadata": {},
     "output_type": "execute_result"
    }
   ],
   "source": [
    "final.head(30)"
   ]
  },
  {
   "cell_type": "code",
   "execution_count": null,
   "id": "263b73e5",
   "metadata": {},
   "outputs": [],
   "source": []
  }
 ],
 "metadata": {
  "kernelspec": {
   "display_name": "Python 3 (ipykernel)",
   "language": "python",
   "name": "python3"
  },
  "language_info": {
   "codemirror_mode": {
    "name": "ipython",
    "version": 3
   },
   "file_extension": ".py",
   "mimetype": "text/x-python",
   "name": "python",
   "nbconvert_exporter": "python",
   "pygments_lexer": "ipython3",
   "version": "3.8.10"
  }
 },
 "nbformat": 4,
 "nbformat_minor": 5
}
